{
 "cells": [
  {
   "cell_type": "code",
   "execution_count": null,
   "id": "c3697e57",
   "metadata": {},
   "outputs": [],
   "source": [
    "import cv2"
   ]
  },
  {
   "cell_type": "code",
   "execution_count": null,
   "id": "5598f6ab",
   "metadata": {},
   "outputs": [],
   "source": [
    "eye_cascade = cv2.CascadeClassifier(cv2.data.haarcascades +'haarcascade_eye.xml')\n",
    "smile_cascade = cv2.CascadeClassifier(cv2.data.haarcascades +'haarcascade_smile.xml')\n",
    "face_cascade = cv2.CascadeClassifier(cv2.data.haarcascades +'haarcascade_frontalface_default.xml')"
   ]
  },
  {
   "cell_type": "code",
   "execution_count": null,
   "id": "1a5b1a44",
   "metadata": {},
   "outputs": [],
   "source": [
    "faces = face_cascade.detectMultiScale(gray, 1.3, 5)"
   ]
  },
  {
   "cell_type": "code",
   "execution_count": null,
   "id": "4cbf8ad7",
   "metadata": {},
   "outputs": [],
   "source": [
    "def detect(gray, frame):\n",
    "\tfaces = face_cascade.detectMultiScale(gray, 1.3, 5)\n",
    "\tfor (x, y, w, h) in faces:\n",
    "\t\tcv2.rectangle(frame, (x, y), ((x + w), (y + h)), (255, 0, 0), 2)\n",
    "\t\troi_gray = gray[y:y + h, x:x + w]\n",
    "\t\troi_color = frame[y:y + h, x:x + w]\n",
    "\t\tsmiles = smile_cascade.detectMultiScale(roi_gray, 1.8, 20)\n",
    "\t\tfor (sx, sy, sw, sh) in smiles:\n",
    "\t\t\tcv2.rectangle(roi_color, (sx, sy), ((sx + sw), (sy + sh)), (0, 0, 255), 2)\n",
    "\treturn frame"
   ]
  },
  {
   "cell_type": "code",
   "execution_count": null,
   "id": "75ab929f",
   "metadata": {},
   "outputs": [],
   "source": [
    "video_capture = cv2.VideoCapture(0)\n",
    "while video_capture.isOpened():\n",
    "    \n",
    "# Captures video_capture frame by frame\n",
    "\t_, frame = video_capture.read()\n",
    "\n",
    "\t# To capture image in monochrome\t\t\t\t\n",
    "\tgray = cv2.cvtColor(frame, cv2.COLOR_BGR2GRAY)\n",
    "\t\n",
    "\t# calls the detect() function\n",
    "\tcanvas = detect(gray, frame)\n",
    "\n",
    "\t# Displays the result on camera feed\t\t\t\t\t\n",
    "\tcv2.imshow('Video', canvas)\n",
    "\n",
    "\t# The control breaks once q key is pressed\t\t\t\t\t\n",
    "\tif cv2.waitKey(1) & 0xff == ord('q'):\t\t\t\n",
    "\t\tbreak\n",
    "\n",
    "# Release the capture once all the processing is done.\n",
    "video_capture.release()\t\t\t\t\t\t\t\t\n",
    "cv2.destroyAllWindows()"
   ]
  }
 ],
 "metadata": {
  "kernelspec": {
   "display_name": "Python 3",
   "language": "python",
   "name": "python3"
  },
  "language_info": {
   "codemirror_mode": {
    "name": "ipython",
    "version": 3
   },
   "file_extension": ".py",
   "mimetype": "text/x-python",
   "name": "python",
   "nbconvert_exporter": "python",
   "pygments_lexer": "ipython3",
   "version": "3.8.10"
  },
  "varInspector": {
   "cols": {
    "lenName": 16,
    "lenType": 16,
    "lenVar": 40
   },
   "kernels_config": {
    "python": {
     "delete_cmd_postfix": "",
     "delete_cmd_prefix": "del ",
     "library": "var_list.py",
     "varRefreshCmd": "print(var_dic_list())"
    },
    "r": {
     "delete_cmd_postfix": ") ",
     "delete_cmd_prefix": "rm(",
     "library": "var_list.r",
     "varRefreshCmd": "cat(var_dic_list()) "
    }
   },
   "types_to_exclude": [
    "module",
    "function",
    "builtin_function_or_method",
    "instance",
    "_Feature"
   ],
   "window_display": false
  }
 },
 "nbformat": 4,
 "nbformat_minor": 5
}
